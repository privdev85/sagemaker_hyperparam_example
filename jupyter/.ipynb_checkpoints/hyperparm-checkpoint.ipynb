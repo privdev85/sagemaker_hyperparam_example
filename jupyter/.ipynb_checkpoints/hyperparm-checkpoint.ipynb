{
 "cells": [
  {
   "cell_type": "markdown",
   "metadata": {},
   "source": [
    "### Import libraries and dataset"
   ]
  },
  {
   "cell_type": "code",
   "execution_count": 1,
   "metadata": {},
   "outputs": [],
   "source": [
    "from __future__ import absolute_import, division, print_function, unicode_literals\n",
    "\n",
    "import numpy as np\n",
    "import pandas as pd\n",
    "\n",
    "import tensorflow as tf\n",
    "\n",
    "from tensorflow import feature_column\n",
    "from tensorflow.keras import layers\n",
    "from sklearn.model_selection import train_test_split\n",
    "\n",
    "from tensorflow import keras\n",
    "\n",
    "from matplotlib import pyplot as plt\n",
    "import math\n",
    "from sklearn.metrics import r2_score"
   ]
  },
  {
   "cell_type": "code",
   "execution_count": 2,
   "metadata": {},
   "outputs": [],
   "source": [
    "# Import raw data \n",
    "df = pd.read_csv('../csv/true_car_listings.csv')"
   ]
  },
  {
   "cell_type": "markdown",
   "metadata": {},
   "source": [
    "### Data and Variable preparations "
   ]
  },
  {
   "cell_type": "code",
   "execution_count": 3,
   "metadata": {},
   "outputs": [],
   "source": [
    "### Exclusions\n",
    "\n",
    "# drop if VIN or price is missing\n",
    "df.drop(df[df['Vin'].isnull()].index, inplace = True)\n",
    "df.drop(df[df['Price'].isnull()].index, inplace = True)"
   ]
  },
  {
   "cell_type": "code",
   "execution_count": 4,
   "metadata": {},
   "outputs": [],
   "source": [
    "### Create age variable\n",
    "### Built Year of a car can be translated easily from the VIN. Thus, we will create the numerical built_year variable\n",
    "### Impact of built year on price is assume to be linear/ordinal, so we should use a numeric variable in this case\n",
    "by_dict = {\n",
    "'A':1980,'K':1989,'W':1998,'7':2007,'G':2016,\n",
    "'B':1981,'L':1990,'X':1999,'8':2008,'H':2017,\n",
    "'C':1982,'M':1991,'Y':2000,'9':2009,'J':2018,\n",
    "'D':1983,'N':1992,'1':2001,'A':2010,'K':2019,\n",
    "'E':1984,'P':1993,'2':2002,'B':2011,'L':2020,\n",
    "'F':1985,'R':1994,'3':2003,'C':2012,'M':2021,\n",
    "'G':1986,'S':1995,'4':2004,'D':2013,'N':2022,\n",
    "'H':1987,'T':1996,'5':2005,'E':2014,'P':2023,\n",
    "'J':1988,'V':1997,'6':2006,'F':2015,'R':2024}\n",
    "\n",
    "df['year'] = df['Vin'].str[9].map(by_dict)\n",
    "\n",
    "df.drop(df[df['year'].isnull()].index, inplace = True)\n",
    "\n",
    "df['year'] = df['year'].astype(int) "
   ]
  },
  {
   "cell_type": "code",
   "execution_count": 5,
   "metadata": {},
   "outputs": [],
   "source": [
    "### Decompose VIN into categories that might be useful\n",
    "### This categories will be used as embeddings later \n",
    "\n",
    "df['built_location'] = df['Vin'].str[0].astype(str) # Represents information on where car was built \n",
    "df['manufacturer'] = df['Vin'].str[1:3].astype(str) # Manufacturer\n",
    "df['model_engine_fuel'] = df['Vin'].str[3:8].astype(str) # Combination of model, engine and fueltype "
   ]
  },
  {
   "cell_type": "code",
   "execution_count": 6,
   "metadata": {},
   "outputs": [],
   "source": [
    "### Create dataframe with feature variables and drop missing values \n",
    "df_clean = df[['Price', 'built_location', 'manufacturer', 'year', 'model_engine_fuel']].dropna().copy()"
   ]
  },
  {
   "cell_type": "markdown",
   "metadata": {},
   "source": [
    "### Lower bound Benchmark: Random prediction "
   ]
  },
  {
   "cell_type": "code",
   "execution_count": 7,
   "metadata": {},
   "outputs": [
    {
     "data": {
      "image/png": "[encoded data removed]",
      "text/plain": [
       "<Figure size 864x432 with 1 Axes>"
      ]
     },
     "metadata": {
      "needs_background": "light"
     },
     "output_type": "display_data"
    }
   ],
   "source": [
    "### Distribution of target variable \n",
    "df_pred = df_clean[['Price']].copy()\n",
    "\n",
    "fig = plt.figure(figsize = (12,6))\n",
    "plt.hist(df_pred[df_pred['Price']<100000]['Price'])\n",
    "plt.title('Distribution of target variable')\n",
    "plt.show()"
   ]
  },
  {
   "cell_type": "code",
   "execution_count": 8,
   "metadata": {},
   "outputs": [],
   "source": [
    "# Make naive prediction, by just drawing randomly from the (Mean, STD) distribution that we observe above\n",
    "# Underlying assumption that we have a normal distribution which we don't \n",
    "# (however, we just want a simple benchmark here)\n",
    "mean = df_pred['Price'].mean()\n",
    "std = df_pred['Price'].std()\n",
    "\n",
    "df_pred['pred'] = np.random.normal(loc = mean, scale = std, size = len(df_pred))\n",
    "df_pred['pred'] = df_pred['pred'].clip(lower = 0)\n",
    "\n",
    "df_pred['mae'] = abs(df_pred['Price'] - df_pred['pred'])"
   ]
  },
  {
   "cell_type": "code",
   "execution_count": 9,
   "metadata": {},
   "outputs": [
    {
     "name": "stdout",
     "output_type": "stream",
     "text": [
      "Mean absolute error, if we naively predict from the observed distribution: 13952.09\n"
     ]
    }
   ],
   "source": [
    "print('Mean absolute error, if we naively predict from the observed distribution: {}'.format(round(df_pred['mae'].mean(),2)))"
   ]
  },
  {
   "cell_type": "markdown",
   "metadata": {},
   "source": [
    "### Data prep for tensorflow model "
   ]
  },
  {
   "cell_type": "code",
   "execution_count": 10,
   "metadata": {},
   "outputs": [],
   "source": [
    "train, test = train_test_split(df_clean, test_size=0.2)\n",
    "train, val = train_test_split(train, test_size=0.2)"
   ]
  },
  {
   "cell_type": "code",
   "execution_count": 11,
   "metadata": {},
   "outputs": [],
   "source": [
    "def df_to_dataset(df, shuffle=True, batch_size=32):\n",
    "    dataframe = df.copy()\n",
    "    \n",
    "    labels = dataframe.pop('Price')\n",
    "    ds = tf.data.Dataset.from_tensor_slices((dict(dataframe), labels))\n",
    "    if shuffle:\n",
    "        ds = ds.shuffle(buffer_size=len(dataframe))\n",
    "    ds = ds.batch(batch_size)\n",
    "    return ds "
   ]
  },
  {
   "cell_type": "code",
   "execution_count": 12,
   "metadata": {},
   "outputs": [],
   "source": [
    "batch_size = 100 \n",
    "train_ds = df_to_dataset(train, batch_size=batch_size)\n",
    "val_ds = df_to_dataset(val, shuffle=False, batch_size=batch_size)\n",
    "test_ds = df_to_dataset(test, shuffle=False, batch_size=batch_size)"
   ]
  },
  {
   "cell_type": "code",
   "execution_count": 13,
   "metadata": {},
   "outputs": [],
   "source": [
    "### Prepare embeddings \n",
    "feature_columns = list()\n",
    "pre_embeddings = dict()\n",
    "embedding = dict() \n",
    "\n",
    "for var in ['built_location', 'manufacturer', 'model_engine_fuel']:\n",
    "\n",
    "    pre_embeddings[var] = feature_column.categorical_column_with_vocabulary_list(var,\n",
    "                 df[var].unique())\n",
    "    \n",
    "    embedding[var] = feature_column.embedding_column(pre_embeddings[var], \n",
    "                      dimension = round(len(df_clean[var].unique()) ** 0.6))\n",
    "    \n",
    "    feature_columns.append(embedding[var])\n",
    "\n",
    "\n",
    "year = feature_column.numeric_column('year')\n",
    "\n",
    "feature_columns.append(year)\n",
    "\n",
    "feature_layer = tf.keras.layers.DenseFeatures(feature_columns)"
   ]
  },
  {
   "cell_type": "markdown",
   "metadata": {},
   "source": [
    "### Model training "
   ]
  },
  {
   "cell_type": "code",
   "execution_count": 14,
   "metadata": {},
   "outputs": [
    {
     "name": "stdout",
     "output_type": "stream",
     "text": [
      "WARNING:tensorflow:From /Users/martin_bierey/opt/anaconda3/lib/python3.7/site-packages/tensorflow_core/python/feature_column/feature_column_v2.py:3089: VocabularyListCategoricalColumn._num_buckets (from tensorflow.python.feature_column.feature_column_v2) is deprecated and will be removed in a future version.\n",
      "Instructions for updating:\n",
      "The old _FeatureColumn APIs are being deprecated. Please use the new FeatureColumn APIs instead.\n",
      "WARNING:tensorflow:From /Users/martin_bierey/opt/anaconda3/lib/python3.7/site-packages/tensorflow_core/python/feature_column/feature_column_v2.py:353: Layer.add_variable (from tensorflow.python.keras.engine.base_layer) is deprecated and will be removed in a future version.\n",
      "Instructions for updating:\n",
      "Please use `layer.add_weight` method instead.\n",
      "WARNING:tensorflow:From /Users/martin_bierey/opt/anaconda3/lib/python3.7/site-packages/tensorflow_core/python/ops/embedding_ops.py:802: where (from tensorflow.python.ops.array_ops) is deprecated and will be removed in a future version.\n",
      "Instructions for updating:\n",
      "Use tf.where in 2.0, which has the same broadcast rule as np.where\n",
      "Epoch 1/5\n",
      "WARNING:tensorflow:Entity <function Function._initialize_uninitialized_variables.<locals>.initialize_variables at 0x1a37c5c0e0> could not be transformed and will be executed as-is. Please report this to the AutoGraph team. When filing the bug, set the verbosity to 10 (on Linux, `export AUTOGRAPH_VERBOSITY=10`) and attach the full output. Cause: module 'gast' has no attribute 'Num'\n",
      "WARNING: Entity <function Function._initialize_uninitialized_variables.<locals>.initialize_variables at 0x1a37c5c0e0> could not be transformed and will be executed as-is. Please report this to the AutoGraph team. When filing the bug, set the verbosity to 10 (on Linux, `export AUTOGRAPH_VERBOSITY=10`) and attach the full output. Cause: module 'gast' has no attribute 'Num'\n",
      "5454/5454 [==============================] - 207s 38ms/step - loss: 4450.6180 - mae: 4450.7891 - val_loss: 0.0000e+00 - val_mae: 0.0000e+00\n",
      "Epoch 2/5\n",
      "5454/5454 [==============================] - 185s 34ms/step - loss: 3101.0133 - mae: 3101.0225 - val_loss: 3060.5154 - val_mae: 3060.4106\n",
      "Epoch 3/5\n",
      "5454/5454 [==============================] - 200s 37ms/step - loss: 2969.9734 - mae: 2969.9453 - val_loss: 2993.3752 - val_mae: 2993.3855\n",
      "Epoch 4/5\n",
      "5454/5454 [==============================] - 188s 34ms/step - loss: 2905.4033 - mae: 2905.4229 - val_loss: 2940.2018 - val_mae: 2940.0110\n",
      "Epoch 5/5\n",
      "5454/5454 [==============================] - 178s 33ms/step - loss: 2863.9609 - mae: 2863.9707 - val_loss: 2901.9581 - val_mae: 2901.9128\n"
     ]
    },
    {
     "data": {
      "text/plain": [
       "<tensorflow.python.keras.callbacks.History at 0x1a40413850>"
      ]
     },
     "execution_count": 14,
     "metadata": {},
     "output_type": "execute_result"
    }
   ],
   "source": [
    "model = tf.keras.Sequential([\n",
    "  feature_layer,\n",
    "  layers.Dense(128, activation='relu'),\n",
    "  layers.Dense(64, activation='relu'),  \n",
    "  layers.Dense(1)\n",
    "])\n",
    "\n",
    "optimizer = tf.keras.optimizers.RMSprop(0.001)\n",
    "\n",
    "model.compile(optimizer='adam',\n",
    "              loss='mean_absolute_error',\n",
    "              metrics=['mae'])\n",
    "\n",
    "model.fit(train_ds,\n",
    "          validation_data=val_ds,\n",
    "          epochs=5)"
   ]
  },
  {
   "cell_type": "code",
   "execution_count": null,
   "metadata": {},
   "outputs": [],
   "source": [
    "# Save model \n",
    "#keras.models.save_model(model,'nn_used_car')"
   ]
  },
  {
   "cell_type": "code",
   "execution_count": null,
   "metadata": {},
   "outputs": [],
   "source": [
    "# Load model from disk\n",
    "#loaded_model = keras.models.load_model('nn_used_car')"
   ]
  },
  {
   "cell_type": "code",
   "execution_count": 16,
   "metadata": {},
   "outputs": [
    {
     "name": "stderr",
     "output_type": "stream",
     "text": [
      "/Users/martin_bierey/opt/anaconda3/lib/python3.7/site-packages/ipykernel_launcher.py:2: SettingWithCopyWarning: \n",
      "A value is trying to be set on a copy of a slice from a DataFrame.\n",
      "Try using .loc[row_indexer,col_indexer] = value instead\n",
      "\n",
      "See the caveats in the documentation: http://pandas.pydata.org/pandas-docs/stable/user_guide/indexing.html#returning-a-view-versus-a-copy\n",
      "  \n"
     ]
    },
    {
     "data": {
      "text/plain": [
       "0.8276298762146567"
      ]
     },
     "execution_count": 16,
     "metadata": {},
     "output_type": "execute_result"
    }
   ],
   "source": [
    "### Calculate R-squared on test set predictions  \n",
    "test['pred'] = model.predict(test_ds)\n",
    "r2_score(test['Price'].values, test['pred'])"
   ]
  },
  {
   "cell_type": "markdown",
   "metadata": {},
   "source": [
    "### Conclusion \n",
    "\n",
    "- Taking only the information from one variable (VIN), we are able to predict 81% of the variance of used car prices (R-squared on test set)\n",
    "- Compared to a naive (random) prediction, which yields an MAE of 14,000 USD, we decrease the MAE to below 2,900 USD\n",
    "- Thus, it looks like there is important informational value in the VIN that could be used to improve existing \n",
    "  used car models \n",
    "- The model could certainly be further optimized, but this is not the aim of this capstone. Instead, we wanted to get a general feeling for how much informational value the VIN contains "
   ]
  }
 ],
 "metadata": {
  "kernelspec": {
   "display_name": "Python 3",
   "language": "python",
   "name": "python3"
  },
  "language_info": {
   "codemirror_mode": {
    "name": "ipython",
    "version": 3
   },
   "file_extension": ".py",
   "mimetype": "text/x-python",
   "name": "python",
   "nbconvert_exporter": "python",
   "pygments_lexer": "ipython3",
   "version": "3.7.4"
  }
 },
 "nbformat": 4,
 "nbformat_minor": 4
}
