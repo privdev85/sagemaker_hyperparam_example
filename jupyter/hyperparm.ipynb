{
 "cells": [
  {
   "cell_type": "markdown",
   "metadata": {},
   "source": [
    "### Import libraries and dataset"
   ]
  },
  {
   "cell_type": "code",
   "execution_count": 1,
   "metadata": {},
   "outputs": [
    {
     "name": "stderr",
     "output_type": "stream",
     "text": [
      "/Users/martin_bierey/opt/anaconda3/lib/python3.7/site-packages/lightgbm/__init__.py:48: UserWarning: Starting from version 2.2.1, the library file in distribution wheels for macOS is built by the Apple Clang (Xcode_8.3.3) compiler.\n",
      "This means that in case of installing LightGBM from PyPI via the ``pip install lightgbm`` command, you don't need to install the gcc compiler anymore.\n",
      "Instead of that, you need to install the OpenMP library, which is required for running LightGBM on the system with the Apple Clang compiler.\n",
      "You can install the OpenMP library by the following command: ``brew install libomp``.\n",
      "  \"You can install the OpenMP library by the following command: ``brew install libomp``.\", UserWarning)\n"
     ]
    }
   ],
   "source": [
    "import pandas as pd\n",
    "import lightgbm as lgb\n",
    "import optuna"
   ]
  },
  {
   "cell_type": "code",
   "execution_count": 2,
   "metadata": {},
   "outputs": [],
   "source": [
    "# Import raw data \n",
    "def import_raw_data():\n",
    "    raw = pd.read_csv('../csv/true_car_listings.csv')\n",
    "    df = raw[['Price','Mileage','Year','Make']].copy().dropna()\n",
    "    df['Make'] = df['Make'].rank() \n",
    "    return df "
   ]
  },
  {
   "cell_type": "code",
   "execution_count": 3,
   "metadata": {},
   "outputs": [],
   "source": [
    "def train_iterr(df,params):\n",
    "    categorical = ['Make']\n",
    "    continuous = ['Mileage','Year']\n",
    "    target = 'Price'\n",
    "    train = df.sample(frac=0.8).copy() \n",
    "    test = df.loc[~df.index.isin(train.index.values)].copy()        \n",
    "    lgtrain = lgb.Dataset(train[categorical+continuous], categorical_feature=categorical,label=train[target])\n",
    "    lgval = lgb.Dataset(test[categorical+continuous], categorical_feature=categorical,label=test[target])\n",
    "    model = lgb.train(params, lgtrain, valid_sets=lgval, early_stopping_rounds=100, verbose_eval=20)\n",
    "    return model.best_score['valid_0']['rmse']"
   ]
  },
  {
   "cell_type": "code",
   "execution_count": 4,
   "metadata": {},
   "outputs": [
    {
     "name": "stderr",
     "output_type": "stream",
     "text": [
      "\u001b[32m[I 2021-07-08 11:37:01,971]\u001b[0m A new study created in memory with name: no-name-357d56e8-02c6-4668-a8f8-69c15c407535\u001b[0m\n",
      "/Users/martin_bierey/opt/anaconda3/lib/python3.7/site-packages/lightgbm/basic.py:1243: UserWarning: Using categorical_feature in Dataset.\n",
      "  warnings.warn('Using categorical_feature in Dataset.')\n"
     ]
    },
    {
     "name": "stdout",
     "output_type": "stream",
     "text": [
      "Training until validation scores don't improve for 100 rounds\n",
      "[20]\tvalid_0's rmse: 8526.87\n",
      "[40]\tvalid_0's rmse: 8427.43\n",
      "[60]\tvalid_0's rmse: 8434.78\n",
      "[80]\tvalid_0's rmse: 8439.11\n",
      "[100]\tvalid_0's rmse: 8440.04\n",
      "Did not meet early stopping. Best iteration is:\n",
      "[43]\tvalid_0's rmse: 8425.85\n"
     ]
    },
    {
     "name": "stderr",
     "output_type": "stream",
     "text": [
      "\u001b[32m[I 2021-07-08 11:37:06,269]\u001b[0m Trial 0 finished with value: 8425.845973214462 and parameters: {'num_leaves': 148.27315500230455}. Best is trial 0 with value: 8425.845973214462.\u001b[0m\n"
     ]
    },
    {
     "name": "stdout",
     "output_type": "stream",
     "text": [
      "Training until validation scores don't improve for 100 rounds\n",
      "[20]\tvalid_0's rmse: 8752.9\n",
      "[40]\tvalid_0's rmse: 8610.71\n",
      "[60]\tvalid_0's rmse: 8600.59\n",
      "[80]\tvalid_0's rmse: 8605.59\n",
      "[100]\tvalid_0's rmse: 8606.9\n",
      "Did not meet early stopping. Best iteration is:\n",
      "[58]\tvalid_0's rmse: 8599.38\n"
     ]
    },
    {
     "name": "stderr",
     "output_type": "stream",
     "text": [
      "\u001b[32m[I 2021-07-08 11:37:14,299]\u001b[0m Trial 1 finished with value: 8599.382478586502 and parameters: {'num_leaves': 385.81850611015483}. Best is trial 0 with value: 8425.845973214462.\u001b[0m\n"
     ]
    },
    {
     "name": "stdout",
     "output_type": "stream",
     "text": [
      "Training until validation scores don't improve for 100 rounds\n",
      "[20]\tvalid_0's rmse: 8435.09\n",
      "[40]\tvalid_0's rmse: 8344.04\n",
      "[60]\tvalid_0's rmse: 8350.94\n",
      "[80]\tvalid_0's rmse: 8356.24\n",
      "[100]\tvalid_0's rmse: 8360.56\n",
      "Did not meet early stopping. Best iteration is:\n",
      "[36]\tvalid_0's rmse: 8342.96\n"
     ]
    },
    {
     "name": "stderr",
     "output_type": "stream",
     "text": [
      "\u001b[32m[I 2021-07-08 11:37:24,017]\u001b[0m Trial 2 finished with value: 8342.957769426792 and parameters: {'num_leaves': 614.5357178182937}. Best is trial 2 with value: 8342.957769426792.\u001b[0m\n"
     ]
    },
    {
     "name": "stdout",
     "output_type": "stream",
     "text": [
      "Training until validation scores don't improve for 100 rounds\n",
      "[20]\tvalid_0's rmse: 8574.83\n",
      "[40]\tvalid_0's rmse: 8460.92\n",
      "[60]\tvalid_0's rmse: 8459.71\n",
      "[80]\tvalid_0's rmse: 8467.77\n",
      "[100]\tvalid_0's rmse: 8473.45\n",
      "Did not meet early stopping. Best iteration is:\n",
      "[59]\tvalid_0's rmse: 8458\n"
     ]
    },
    {
     "name": "stderr",
     "output_type": "stream",
     "text": [
      "\u001b[32m[I 2021-07-08 11:37:32,916]\u001b[0m Trial 3 finished with value: 8458.000016366057 and parameters: {'num_leaves': 357.5354872157008}. Best is trial 2 with value: 8342.957769426792.\u001b[0m\n"
     ]
    },
    {
     "name": "stdout",
     "output_type": "stream",
     "text": [
      "Training until validation scores don't improve for 100 rounds\n",
      "[20]\tvalid_0's rmse: 8814.25\n",
      "[40]\tvalid_0's rmse: 8680.8\n",
      "[60]\tvalid_0's rmse: 8670.88\n",
      "[80]\tvalid_0's rmse: 8675.28\n",
      "[100]\tvalid_0's rmse: 8679.13\n",
      "Did not meet early stopping. Best iteration is:\n",
      "[59]\tvalid_0's rmse: 8670.39\n"
     ]
    },
    {
     "name": "stderr",
     "output_type": "stream",
     "text": [
      "\u001b[32m[I 2021-07-08 11:37:45,549]\u001b[0m Trial 4 finished with value: 8670.386566051413 and parameters: {'num_leaves': 731.0716000718473}. Best is trial 2 with value: 8342.957769426792.\u001b[0m\n"
     ]
    },
    {
     "data": {
      "text/plain": [
       "{'num_leaves': 614.5357178182937}"
      ]
     },
     "execution_count": 4,
     "metadata": {},
     "output_type": "execute_result"
    }
   ],
   "source": [
    "def objective(trial):\n",
    "    \n",
    "    params = {\n",
    "        \"objective\": \"regression\",\n",
    "        \"metric\": \"rmse\",\n",
    "        \"num_leaves\": 30,\n",
    "        \"learning_rate\": 0.1\n",
    "    }\n",
    "    \n",
    "    leaves = trial.suggest_uniform('num_leaves', 10,1000)\n",
    "    params['num_leaves'] = int(leaves)\n",
    "    #lr = trial.suggest_uniform('num_leaves', 0.01,0.1)\n",
    "    #params['learning_rate'] = lr   \n",
    "    \n",
    "    \n",
    "    result = train_iterr(df,params)\n",
    "    return result\n",
    "\n",
    "df = import_raw_data()\n",
    "study = optuna.create_study()\n",
    "study.optimize(objective, n_trials=5)\n",
    "\n",
    "study.best_params  "
   ]
  },
  {
   "cell_type": "code",
   "execution_count": null,
   "metadata": {},
   "outputs": [],
   "source": []
  }
 ],
 "metadata": {
  "kernelspec": {
   "display_name": "Python 3",
   "language": "python",
   "name": "python3"
  },
  "language_info": {
   "codemirror_mode": {
    "name": "ipython",
    "version": 3
   },
   "file_extension": ".py",
   "mimetype": "text/x-python",
   "name": "python",
   "nbconvert_exporter": "python",
   "pygments_lexer": "ipython3",
   "version": "3.7.4"
  }
 },
 "nbformat": 4,
 "nbformat_minor": 4
}
